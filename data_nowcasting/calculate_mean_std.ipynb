{
 "cells": [
  {
   "cell_type": "code",
   "execution_count": 1,
   "id": "initial_id",
   "metadata": {
    "collapsed": true,
    "ExecuteTime": {
     "end_time": "2023-12-31T08:24:54.129348Z",
     "start_time": "2023-12-31T08:24:54.039479200Z"
    }
   },
   "outputs": [],
   "source": [
    "import numpy as np\n",
    "import h5py"
   ]
  },
  {
   "cell_type": "code",
   "outputs": [
    {
     "data": {
      "text/plain": "<KeysViewHDF5 ['fields']>"
     },
     "execution_count": 2,
     "metadata": {},
     "output_type": "execute_result"
    }
   ],
   "source": [
    "data_load = h5py.File('train/2010.h5', 'r')\n",
    "data_load.keys()"
   ],
   "metadata": {
    "collapsed": false,
    "ExecuteTime": {
     "end_time": "2023-12-31T08:24:54.137400500Z",
     "start_time": "2023-12-31T08:24:54.128810900Z"
    }
   },
   "id": "152ab0a0c8eecc72",
   "execution_count": 2
  },
  {
   "cell_type": "code",
   "outputs": [
    {
     "name": "stdout",
     "output_type": "stream",
     "text": [
      "(1, 6, 1, 1)\n"
     ]
    }
   ],
   "source": [
    "data = data_load['fields']\n",
    "global_mean = np.repeat(np.mean(data)[None, None, None, None], axis=1, repeats=6)\n",
    "print(global_mean.shape)\n",
    "np.save('global_means.npy', global_mean)"
   ],
   "metadata": {
    "collapsed": false,
    "ExecuteTime": {
     "end_time": "2023-12-31T08:24:54.610304200Z",
     "start_time": "2023-12-31T08:24:54.188843700Z"
    }
   },
   "id": "f25578284e85faed",
   "execution_count": 3
  },
  {
   "cell_type": "code",
   "outputs": [
    {
     "name": "stdout",
     "output_type": "stream",
     "text": [
      "(1, 6, 1, 1)\n"
     ]
    }
   ],
   "source": [
    "global_stds = np.sqrt(np.mean((data - global_mean[0, 0])**2))\n",
    "global_stds = np.repeat(global_stds[None, None, None, None], axis=1, repeats=6)\n",
    "print(global_stds.shape)\n",
    "np.save('global_stds.npy', global_stds)"
   ],
   "metadata": {
    "collapsed": false,
    "ExecuteTime": {
     "end_time": "2023-12-31T08:24:55.113646800Z",
     "start_time": "2023-12-31T08:24:54.610304200Z"
    }
   },
   "id": "43f1d952017f250a",
   "execution_count": 4
  },
  {
   "cell_type": "code",
   "outputs": [
    {
     "name": "stdout",
     "output_type": "stream",
     "text": [
      "(1, 6, 192, 288)\n"
     ]
    }
   ],
   "source": [
    "time_means = np.mean(data, axis=0)[None]\n",
    "print(time_means.shape)\n",
    "np.save('time_means.npy', time_means)"
   ],
   "metadata": {
    "collapsed": false,
    "ExecuteTime": {
     "end_time": "2023-12-31T08:24:55.604103500Z",
     "start_time": "2023-12-31T08:24:55.109980900Z"
    }
   },
   "id": "e5d84c8e9cb760d8",
   "execution_count": 5
  },
  {
   "cell_type": "code",
   "outputs": [
    {
     "data": {
      "text/plain": "-0.002495466"
     },
     "execution_count": 6,
     "metadata": {},
     "output_type": "execute_result"
    }
   ],
   "source": [
    "np.mean(global_mean)"
   ],
   "metadata": {
    "collapsed": false,
    "ExecuteTime": {
     "end_time": "2023-12-31T08:24:55.604103500Z",
     "start_time": "2023-12-31T08:24:55.602101100Z"
    }
   },
   "id": "37676501b3561df9",
   "execution_count": 6
  }
 ],
 "metadata": {
  "kernelspec": {
   "display_name": "Python 3",
   "language": "python",
   "name": "python3"
  },
  "language_info": {
   "codemirror_mode": {
    "name": "ipython",
    "version": 2
   },
   "file_extension": ".py",
   "mimetype": "text/x-python",
   "name": "python",
   "nbconvert_exporter": "python",
   "pygments_lexer": "ipython2",
   "version": "2.7.6"
  }
 },
 "nbformat": 4,
 "nbformat_minor": 5
}
