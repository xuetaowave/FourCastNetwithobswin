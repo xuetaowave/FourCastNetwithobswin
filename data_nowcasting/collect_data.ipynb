{
 "cells": [
  {
   "cell_type": "code",
   "execution_count": 11,
   "metadata": {
    "ExecuteTime": {
     "end_time": "2023-12-29T08:46:41.751088979Z",
     "start_time": "2023-12-29T08:46:41.749578827Z"
    }
   },
   "outputs": [
    {
     "data": {
      "text/plain": "'/mnt/data/work/FourCastNet/data_nowcasting'"
     },
     "execution_count": 11,
     "metadata": {},
     "output_type": "execute_result"
    }
   ],
   "source": [
    "import numpy as np\n",
    "from datetime import datetime, timedelta\n",
    "from time import time\n",
    "import os \n",
    "os.getcwd()"
   ]
  },
  {
   "cell_type": "code",
   "execution_count": 12,
   "metadata": {
    "ExecuteTime": {
     "end_time": "2023-12-29T08:46:41.793525531Z",
     "start_time": "2023-12-29T08:46:41.751623454Z"
    }
   },
   "outputs": [],
   "source": [
    "start_date = datetime(2010, 1, 11)\n",
    "end_date = datetime(2010, 1, 31)\n"
   ]
  },
  {
   "cell_type": "code",
   "execution_count": 13,
   "metadata": {
    "ExecuteTime": {
     "end_time": "2023-12-29T08:46:58.244618516Z",
     "start_time": "2023-12-29T08:46:41.793451842Z"
    }
   },
   "outputs": [
    {
     "name": "stdout",
     "output_type": "stream",
     "text": [
      "time usage:0.3056221008300781   finish:/home/cxt/data/work/Data/WACCM/2010/Density/FWSD_2010.cam.h1.2010-01-11-00000.Density.2-5km.npz\n",
      "time usage:0.30362558364868164   finish:/home/cxt/data/work/Data/WACCM/2010/Density/FWSD_2010.cam.h1.2010-01-12-00000.Density.2-5km.npz\n",
      "time usage:0.29862451553344727   finish:/home/cxt/data/work/Data/WACCM/2010/Density/FWSD_2010.cam.h1.2010-01-13-00000.Density.2-5km.npz\n",
      "time usage:0.3084716796875   finish:/home/cxt/data/work/Data/WACCM/2010/Density/FWSD_2010.cam.h1.2010-01-14-00000.Density.2-5km.npz\n",
      "time usage:0.31099820137023926   finish:/home/cxt/data/work/Data/WACCM/2010/Density/FWSD_2010.cam.h1.2010-01-15-00000.Density.2-5km.npz\n",
      "time usage:0.30647873878479004   finish:/home/cxt/data/work/Data/WACCM/2010/Density/FWSD_2010.cam.h1.2010-01-16-00000.Density.2-5km.npz\n",
      "time usage:0.3013474941253662   finish:/home/cxt/data/work/Data/WACCM/2010/Density/FWSD_2010.cam.h1.2010-01-17-00000.Density.2-5km.npz\n",
      "time usage:0.30133628845214844   finish:/home/cxt/data/work/Data/WACCM/2010/Density/FWSD_2010.cam.h1.2010-01-18-00000.Density.2-5km.npz\n",
      "time usage:0.2980175018310547   finish:/home/cxt/data/work/Data/WACCM/2010/Density/FWSD_2010.cam.h1.2010-01-19-00000.Density.2-5km.npz\n",
      "time usage:0.2858264446258545   finish:/home/cxt/data/work/Data/WACCM/2010/Density/FWSD_2010.cam.h1.2010-01-20-00000.Density.2-5km.npz\n",
      "time usage:0.36669349670410156   finish:/home/cxt/data/work/Data/WACCM/2010/Density/FWSD_2010.cam.h1.2010-01-21-00000.Density.2-5km.npz\n",
      "time usage:0.38208818435668945   finish:/home/cxt/data/work/Data/WACCM/2010/Density/FWSD_2010.cam.h1.2010-01-22-00000.Density.2-5km.npz\n",
      "time usage:0.6359548568725586   finish:/home/cxt/data/work/Data/WACCM/2010/Density/FWSD_2010.cam.h1.2010-01-23-00000.Density.2-5km.npz\n",
      "time usage:0.8658030033111572   finish:/home/cxt/data/work/Data/WACCM/2010/Density/FWSD_2010.cam.h1.2010-01-24-00000.Density.2-5km.npz\n",
      "time usage:1.2044241428375244   finish:/home/cxt/data/work/Data/WACCM/2010/Density/FWSD_2010.cam.h1.2010-01-25-00000.Density.2-5km.npz\n",
      "time usage:0.9915025234222412   finish:/home/cxt/data/work/Data/WACCM/2010/Density/FWSD_2010.cam.h1.2010-01-26-00000.Density.2-5km.npz\n",
      "time usage:2.5178005695343018   finish:/home/cxt/data/work/Data/WACCM/2010/Density/FWSD_2010.cam.h1.2010-01-27-00000.Density.2-5km.npz\n",
      "time usage:2.02048397064209   finish:/home/cxt/data/work/Data/WACCM/2010/Density/FWSD_2010.cam.h1.2010-01-28-00000.Density.2-5km.npz\n",
      "time usage:2.1967878341674805   finish:/home/cxt/data/work/Data/WACCM/2010/Density/FWSD_2010.cam.h1.2010-01-29-00000.Density.2-5km.npz\n",
      "time usage:2.2811710834503174   finish:/home/cxt/data/work/Data/WACCM/2010/Density/FWSD_2010.cam.h1.2010-01-30-00000.Density.2-5km.npz\n"
     ]
    }
   ],
   "source": [
    "value = []\n",
    "date_list = []\n",
    "for i in range((end_date-start_date).days):\n",
    "    t0 = time()\n",
    "    c_date = start_date+timedelta(i)\n",
    "    filename = '/home/cxt/data/work/Data/WACCM/{}/Density/FWSD_2010.cam.h1.{}-00000.Density.2-5km.npz'.format(c_date.year, c_date.strftime('%Y-%m-%d'))\n",
    "\n",
    "    seconds = np.arange(0, 24*60*60, 60*30)\n",
    "    date_i = np.array([c_date+timedelta(0, int(seconds[i])) for i in range(seconds.size)])\n",
    "\n",
    "    if os.path.exists(filename) is True:\n",
    "        value.append(np.array(np.load(filename)['value'].astype('float32'))[:, -1])      \n",
    "        date_list.append(date_i)\n",
    "        t1 = time()\n",
    "        print('time usage:{}   finish:{}'.format(t1-t0, filename))\n",
    "    else:\n",
    "        print('not found: {}'.format(filename))\n",
    "\n",
    "\n",
    "pass"
   ]
  },
  {
   "cell_type": "code",
   "execution_count": 14,
   "outputs": [],
   "source": [
    "ndensity = np.concatenate(value, axis=0)\n",
    "ndensity_log = np.log(ndensity)\n",
    "ndensity = ndensity_log-np.mean(ndensity_log)\n",
    "date_list = np.hstack(date_list)\n"
   ],
   "metadata": {
    "collapsed": false,
    "ExecuteTime": {
     "end_time": "2023-12-29T08:46:59.145475922Z",
     "start_time": "2023-12-29T08:46:58.245454891Z"
    }
   }
  },
  {
   "cell_type": "code",
   "execution_count": 15,
   "outputs": [],
   "source": [],
   "metadata": {
    "collapsed": false,
    "ExecuteTime": {
     "end_time": "2023-12-29T08:46:59.150895261Z",
     "start_time": "2023-12-29T08:46:59.145909844Z"
    }
   }
  },
  {
   "cell_type": "code",
   "execution_count": 30,
   "outputs": [
    {
     "name": "stdout",
     "output_type": "stream",
     "text": [
      "/mnt/data/work/FourCastNet/data_nowcasting\n"
     ]
    }
   ],
   "source": [
    "import os\n",
    "print(os.getcwd())\n",
    "os.makedirs('train', exist_ok=True)\n",
    "os.makedirs('test', exist_ok=True)\n"
   ],
   "metadata": {
    "collapsed": false,
    "ExecuteTime": {
     "end_time": "2023-12-29T08:56:58.369410475Z",
     "start_time": "2023-12-29T08:56:58.328747801Z"
    }
   }
  },
  {
   "cell_type": "code",
   "outputs": [],
   "source": [
    "data = ndensity.reshape((-1, 6)+ndensity.shape[1:])\n",
    "train_mask = data.shape[0]//6*5"
   ],
   "metadata": {
    "collapsed": false,
    "ExecuteTime": {
     "end_time": "2023-12-29T08:56:58.912349141Z",
     "start_time": "2023-12-29T08:56:58.909864129Z"
    }
   },
   "execution_count": 31
  },
  {
   "cell_type": "code",
   "execution_count": 44,
   "outputs": [],
   "source": [
    "import h5py\n",
    "with h5py.File('train/2010.h5', 'w') as f:\n",
    "    f.create_dataset(\"fields\", data=data[:train_mask])\n",
    "    \n",
    "with h5py.File('test/2010.h5', 'w') as f:\n",
    "    f.create_dataset(\"fields\", data=data[train_mask:])\n"
   ],
   "metadata": {
    "collapsed": false,
    "ExecuteTime": {
     "end_time": "2023-12-29T09:02:54.399335179Z",
     "start_time": "2023-12-29T09:02:53.918843546Z"
    }
   }
  },
  {
   "cell_type": "code",
   "outputs": [],
   "source": [],
   "metadata": {
    "collapsed": false
   }
  }
 ],
 "metadata": {
  "kernelspec": {
   "display_name": "nowcasting",
   "language": "python",
   "name": "python3"
  },
  "language_info": {
   "codemirror_mode": {
    "name": "ipython",
    "version": 3
   },
   "file_extension": ".py",
   "mimetype": "text/x-python",
   "name": "python",
   "nbconvert_exporter": "python",
   "pygments_lexer": "ipython3",
   "version": "3.9.15 (main, Nov  4 2022, 16:35:55) [MSC v.1916 64 bit (AMD64)]"
  },
  "orig_nbformat": 4,
  "vscode": {
   "interpreter": {
    "hash": "5f25adf715a669e634669efeb53eef6a99793d9fbce2ce61393fb4fb9fc42dd4"
   }
  }
 },
 "nbformat": 4,
 "nbformat_minor": 2
}
