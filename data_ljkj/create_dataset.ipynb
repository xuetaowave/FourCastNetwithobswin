{
 "cells": [
  {
   "cell_type": "code",
   "execution_count": 1,
   "metadata": {},
   "outputs": [],
   "source": [
    "import numpy as np \n",
    "import h5py "
   ]
  },
  {
   "cell_type": "code",
   "execution_count": 6,
   "metadata": {},
   "outputs": [
    {
     "data": {
      "text/plain": [
       "(['fields', 'date'],\n",
       " (16992, 192, 288),\n",
       " (16992, 192, 288),\n",
       " (16992, 192, 288),\n",
       " (16992, 192, 288),\n",
       " (16992, 192, 288))"
      ]
     },
     "execution_count": 6,
     "metadata": {},
     "output_type": "execute_result"
    }
   ],
   "source": [
    "data_load_D = np.load('Density.npz')\n",
    "D = data_load_D['fields']\n",
    "\n",
    "data_load_P = np.load('P.npz')\n",
    "P = data_load_P['fields']\n",
    "\n",
    "data_load_T = np.load('T.npz')\n",
    "T = data_load_T['fields']\n",
    "\n",
    "data_load_U = np.load('U.npz')\n",
    "U = data_load_U['fields']\n",
    "\n",
    "data_load_V = np.load('V.npz')\n",
    "V = data_load_V['fields']\n",
    "\n",
    "list(data_load_D.keys()), D.shape, P.shape, T.shape, U.shape, V.shape"
   ]
  },
  {
   "cell_type": "code",
   "execution_count": 13,
   "metadata": {},
   "outputs": [
    {
     "data": {
      "text/plain": [
       "18791792800"
      ]
     },
     "execution_count": 13,
     "metadata": {},
     "output_type": "execute_result"
    }
   ],
   "source": [
    "import sys \n",
    "sys.getsizeof(data_merge)"
   ]
  },
  {
   "cell_type": "code",
   "execution_count": 18,
   "metadata": {},
   "outputs": [],
   "source": [
    "data = np.hstack((D.reshape((-1, 6)+D.shape[1:]), P.reshape((-1, 6)+P.shape[1:]), T.reshape((-1, 6)+T.shape[1:]), U.reshape((-1, 6)+U.shape[1:]), V.reshape((-1, 6)+V.shape[1:])))\n",
    "train_mask = data.shape[0]//6*5"
   ]
  },
  {
   "cell_type": "code",
   "execution_count": 19,
   "metadata": {},
   "outputs": [
    {
     "name": "stdout",
     "output_type": "stream",
     "text": [
      "/mnt/data/work/FourCastNet/data_ljkj\n"
     ]
    }
   ],
   "source": [
    "import os\n",
    "print(os.getcwd())\n",
    "os.makedirs('train', exist_ok=True)\n",
    "os.makedirs('test', exist_ok=True)\n",
    "os.makedirs('out_of_sample', exist_ok=True)"
   ]
  },
  {
   "cell_type": "code",
   "execution_count": 20,
   "metadata": {},
   "outputs": [],
   "source": [
    "import h5py\n",
    "with h5py.File('train/2010.h5', 'w') as f:\n",
    "    f.create_dataset(\"fields\", data=data[:train_mask])\n",
    "    \n",
    "with h5py.File('test/2010.h5', 'w') as f:\n",
    "    f.create_dataset(\"fields\", data=data[train_mask:])\n",
    "    \n",
    "with h5py.File('out_of_sample/2010.h5', 'w') as f:\n",
    "    f.create_dataset(\"fields\", data=data[train_mask:])"
   ]
  },
  {
   "cell_type": "code",
   "execution_count": null,
   "metadata": {},
   "outputs": [],
   "source": []
  }
 ],
 "metadata": {
  "kernelspec": {
   "display_name": "castnet",
   "language": "python",
   "name": "python3"
  },
  "language_info": {
   "codemirror_mode": {
    "name": "ipython",
    "version": 3
   },
   "file_extension": ".py",
   "mimetype": "text/x-python",
   "name": "python",
   "nbconvert_exporter": "python",
   "pygments_lexer": "ipython3",
   "version": "3.8.18"
  }
 },
 "nbformat": 4,
 "nbformat_minor": 2
}
