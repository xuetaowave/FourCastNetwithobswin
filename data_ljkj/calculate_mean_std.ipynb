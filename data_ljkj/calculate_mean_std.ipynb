{
 "cells": [
  {
   "cell_type": "code",
   "execution_count": 1,
   "id": "initial_id",
   "metadata": {
    "collapsed": true,
    "ExecuteTime": {
     "end_time": "2024-01-12T17:39:15.462819675Z",
     "start_time": "2024-01-12T17:39:15.409032128Z"
    }
   },
   "outputs": [],
   "source": [
    "import numpy as np\n",
    "import h5py"
   ]
  },
  {
   "cell_type": "code",
   "outputs": [
    {
     "data": {
      "text/plain": "<KeysViewHDF5 ['fields']>"
     },
     "execution_count": 2,
     "metadata": {},
     "output_type": "execute_result"
    }
   ],
   "source": [
    "data_load = h5py.File('train/2010.h5', 'r')\n",
    "data_load.keys()"
   ],
   "metadata": {
    "collapsed": false,
    "ExecuteTime": {
     "end_time": "2024-01-12T17:39:16.414941635Z",
     "start_time": "2024-01-12T17:39:16.407209225Z"
    }
   },
   "id": "152ab0a0c8eecc72",
   "execution_count": 2
  },
  {
   "cell_type": "code",
   "outputs": [
    {
     "name": "stdout",
     "output_type": "stream",
     "text": [
      "(1, 30, 1, 1)\n"
     ]
    }
   ],
   "source": [
    "data = data_load['fields']\n",
    "global_mean = np.mean(data, axis=(0, 2, 3))[None, :, None, None]\n",
    "print(global_mean.shape)\n",
    "np.save('global_means.npy', global_mean)"
   ],
   "metadata": {
    "collapsed": false,
    "ExecuteTime": {
     "end_time": "2024-01-12T17:40:46.860527937Z",
     "start_time": "2024-01-12T17:40:42.617429473Z"
    }
   },
   "id": "f25578284e85faed",
   "execution_count": 6
  },
  {
   "cell_type": "code",
   "outputs": [],
   "source": [
    "global_stds = np.std(data, axis=(0, 2, 3))[None, :, None, None]\n",
    "np.save('global_stds.npy', global_stds)"
   ],
   "metadata": {
    "collapsed": false,
    "ExecuteTime": {
     "end_time": "2024-01-12T17:47:21.201883424Z",
     "start_time": "2024-01-12T17:47:11.748772553Z"
    }
   },
   "id": "c70926d3068ad7ac",
   "execution_count": 14
  },
  {
   "cell_type": "code",
   "outputs": [
    {
     "name": "stdout",
     "output_type": "stream",
     "text": [
      "(1, 30, 192, 288)\n"
     ]
    }
   ],
   "source": [
    "time_means = np.mean(data, axis=0)[None]\n",
    "print(time_means.shape)\n",
    "np.save('time_means.npy', time_means)"
   ],
   "metadata": {
    "collapsed": false,
    "ExecuteTime": {
     "end_time": "2024-01-12T17:47:07.681827903Z",
     "start_time": "2024-01-12T17:47:04.246775251Z"
    }
   },
   "id": "e5d84c8e9cb760d8",
   "execution_count": 13
  }
 ],
 "metadata": {
  "kernelspec": {
   "display_name": "Python 3",
   "language": "python",
   "name": "python3"
  },
  "language_info": {
   "codemirror_mode": {
    "name": "ipython",
    "version": 2
   },
   "file_extension": ".py",
   "mimetype": "text/x-python",
   "name": "python",
   "nbconvert_exporter": "python",
   "pygments_lexer": "ipython2",
   "version": "2.7.6"
  }
 },
 "nbformat": 4,
 "nbformat_minor": 5
}
